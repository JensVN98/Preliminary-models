{
 "cells": [
  {
   "cell_type": "code",
   "execution_count": null,
   "metadata": {},
   "outputs": [],
   "source": [
    "import pandas as pd\n",
    "import numpy as np\n",
    "from sklearn import metrics\n",
    "from sklearn.naive_bayes import MultinomialNB\n",
    "from sklearn.metrics import classification_report, confusion_matrix\n",
    "from sklearn.model_selection import train_test_split, cross_val_predict, cross_val_score\n",
    "from sklearn.neighbors import KNeighborsClassifier\n",
    "from sklearn.linear_model import LogisticRegression\n",
    "from sklearn.feature_extraction.text import TfidfVectorizer\n",
    "from sklearn.svm import LinearSVC\n",
    "from sklearn.pipeline import Pipeline\n",
    "from sklearn.feature_selection import SelectKBest, mutual_info_classif\n",
    "from sklearn.pipeline import Pipeline\n",
    "from sklearn.model_selection import GridSearchCV\n",
    "import nltk\n",
    "from nltk.tokenize import word_tokenize"
   ]
  },
  {
   "cell_type": "markdown",
   "metadata": {},
   "source": [
    "# Celebrities dataset"
   ]
  },
  {
   "cell_type": "code",
   "execution_count": null,
   "metadata": {},
   "outputs": [],
   "source": [
    "# Age --> age categories\n",
    "\n",
    "df = pd.read_csv('C:/Users/Jens/Notes Jupyter/Thesis-files/celebrities.csv', encoding='utf8')\n",
    "\n",
    "labels = ['18-24','25-34','35-46','50-64','65-xx']\n",
    "age_cats = []\n",
    "\n",
    "for x in df['age']:\n",
    "\n",
    "    if x in range(18,25):\n",
    "        x = labels[0]\n",
    "    elif x in range(25,35):\n",
    "        x = labels[1]\n",
    "    elif x in range(35,50):\n",
    "        x = labels[2]\n",
    "    elif x in range(50,66):\n",
    "        x = labels[3]\n",
    "    elif x > 65:\n",
    "        x = labels[4]\n",
    "    age_cats.append(x)\n",
    "#df['age_cat'] = pd.Categorical(df['age_cat'])\n",
    "\n",
    "age_cats = np.array(age_cats)\n",
    "df['age_cat'] = age_cats\n",
    "\n",
    "df = df.drop('age', 1)\n",
    "df['age_cat'].value_counts()"
   ]
  },
  {
   "cell_type": "code",
   "execution_count": null,
   "metadata": {},
   "outputs": [],
   "source": [
    "# BOW base model\n",
    "tfidfvect = TfidfVectorizer(analyzer ='word', ngram_range = (1,1))\n",
    "\n",
    "X = tfidfvect.fit_transform(df['text'])\n",
    "y = df['age_cat']\n",
    "\n",
    "X_train, X_test, y_train, y_test = train_test_split(X, y, test_size=0.20, random_state=42)\n",
    "\n",
    "logreg = LogisticRegression() \n",
    "logreg.fit(X_train, y_train)\n",
    "\n",
    "y_test_pred = logreg.predict(X_test)\n",
    "\n",
    "print(confusion_matrix(y_test, y_test_pred))\n",
    "print(classification_report(y_test, y_test_pred))"
   ]
  },
  {
   "cell_type": "code",
   "execution_count": null,
   "metadata": {},
   "outputs": [],
   "source": [
    "#balanced dataset:\n",
    "balanced_df = df.groupby('age_cat')\n",
    "balanced_df = pd.DataFrame(balanced_df.apply(lambda x: x.sample(balanced_df.size().min()).reset_index(drop=True)))"
   ]
  },
  {
   "cell_type": "code",
   "execution_count": null,
   "metadata": {},
   "outputs": [],
   "source": [
    "# balanced data - with optimised features\n",
    "tfidfvect = TfidfVectorizer(max_features=55000, \n",
    "                            ngram_range=(1,1),\n",
    "                            lowercase=False,\n",
    "                            analyzer='word', \n",
    "                            binary=True,\n",
    "                            tokenizer=word_tokenize,\n",
    "                            token_pattern='(?u)\\\\b\\\\w+\\\\b')\n",
    "\n",
    "X = tfidfvect.fit_transform(balanced_df['text'])\n",
    "y = balanced_df['age_cat']\n",
    "\n",
    "X_train, X_test, y_train, y_test = train_test_split(X, y, test_size=0.20, random_state=42)\n",
    "\n",
    "logreg = LogisticRegression()\n",
    "logreg.fit(X, y)\n",
    "\n",
    "y_test_pred = logreg.predict(X_test)\n",
    "\n",
    "print(confusion_matrix(y_test, y_test_pred))\n",
    "print(classification_report(y_test, y_test_pred))\n",
    "\n",
    "#should reach accuracy scores up to ~ 80%"
   ]
  },
  {
   "cell_type": "code",
   "execution_count": null,
   "metadata": {},
   "outputs": [],
   "source": [
    "# balanced data - crossval\n",
    "tfidfvect = TfidfVectorizer(max_features=30000, \n",
    "                            ngram_range=(3,3),\n",
    "                            lowercase=False,\n",
    "                            analyzer='char', \n",
    "                            binary=False,\n",
    "                            tokenizer=word_tokenize)\n",
    "\n",
    "X = tfidfvect.fit_transform(balanced_df['text'])\n",
    "y = balanced_df['age_cat']\n",
    "\n",
    "logreg = LogisticRegression()\n",
    "\n",
    "scores = cross_val_score(logreg, X, y, cv=10, scoring = 'accuracy')\n",
    "print(\"Accuracy:\", scores)\n",
    "print (\"Mean:\", scores.mean())\n",
    "\n",
    "# these scores are drastically lower"
   ]
  }
 ],
 "metadata": {
  "kernelspec": {
   "display_name": "Python 3",
   "language": "python",
   "name": "python3"
  },
  "language_info": {
   "codemirror_mode": {
    "name": "ipython",
    "version": 3
   },
   "file_extension": ".py",
   "mimetype": "text/x-python",
   "name": "python",
   "nbconvert_exporter": "python",
   "pygments_lexer": "ipython3",
   "version": "3.7.3"
  }
 },
 "nbformat": 4,
 "nbformat_minor": 2
}
